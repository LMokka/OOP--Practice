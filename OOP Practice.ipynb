{
 "cells": [
  {
   "cell_type": "markdown",
   "id": "4c10f90a",
   "metadata": {},
   "source": [
    "Exercise 1 - Turn the shopping cart program into an object-oriented program -- Have one class as a shopping cart -- and the second class a product."
   ]
  },
  {
   "cell_type": "code",
   "execution_count": 28,
   "id": "098634f3",
   "metadata": {},
   "outputs": [
    {
     "name": "stdout",
     "output_type": "stream",
     "text": [
      "Enter name of item  a\n",
      "Enter quantity of item  10\n",
      "Enter price of item  5\n",
      "Enter name of item  b\n",
      "Enter quantity of item  6\n",
      "Enter price of item  9\n",
      "Enter name of item  c\n",
      "Enter quantity of item  10\n",
      "Enter price of item  5\n",
      "Item Name  Quantity   Price $    Total Price $\n",
      "a          10         5.0        50.0      \n",
      "b          6          9.0        54.0      \n",
      "c          10         5.0        50.0      \n",
      "The total value of items in your shopping cart is $ 154.0\n",
      "Would you like to delete items from your shopping cart Y or N?  Y\n",
      "Enter the name of the item you would like to delete from your shopping cart  b\n",
      "Item Name  Quantity   Price $    Total Price $\n",
      "a          10         5.0        50.0      \n",
      "c          10         5.0        50.0      \n",
      "The total value of items in your shopping cart is $ 100.0\n"
     ]
    }
   ],
   "source": [
    "from IPython.display import clear_output\n",
    "\n",
    "# Create a class called cart that retains items and has methods to add, remove, and show\n",
    "\n",
    "class shopping_cart:\n",
    "         \n",
    "        def __init__(self):\n",
    "                self.shopping_cart = {}\n",
    "        \n",
    "        def add(self):\n",
    "            name = input(\"Enter name of item  \").lower()\n",
    "            if name in self.shopping_cart.keys():\n",
    "                print(\"This item is already in your shopping cart, it will be over-written\")\n",
    "                \n",
    "            \n",
    "            while True:\n",
    "                try:        \n",
    "                    quantity = int(input(\"Enter quantity of item  \"))\n",
    "                    break\n",
    "                except ValueError:\n",
    "                    print(\"Please only input numbers\") \n",
    "                    continue\n",
    "        \n",
    "            while True:\n",
    "                try:        \n",
    "                    price = float(input(\"Enter price of item  \"))\n",
    "                    break\n",
    "                except ValueError:\n",
    "                    print(\"Please only input numbers\") \n",
    "                    continue\n",
    "         \n",
    "            total_price = quantity*price\n",
    "            self.shopping_cart[name] = [quantity,price,total_price]\n",
    "        \n",
    "        def print_shopping_cart(self):\n",
    "            total = 0\n",
    "            print(\"{:<10} {:<10} {:<10} {:<10}\".format('Item Name','Quantity','Price $','Total Price $'))\n",
    "            for k,v in self.shopping_cart.items():\n",
    "                name = k\n",
    "                quantity, price, total_price = v\n",
    "                print(\"{:<10} {:<10} {:<10} {:<10}\".format(name, quantity, price, total_price))\n",
    "        \n",
    "            for t in self.shopping_cart.items():\n",
    "                    total = total + (t[1][2])\n",
    "            print(\"The total value of items in your shopping cart is $\",total)\n",
    "        \n",
    "        \n",
    "        \n",
    "        def delete(self):\n",
    "            Del = input(\"Would you like to delete items from your shopping cart Y or N?  \").upper()\n",
    "            if Del == 'Y':\n",
    "                deleted_key = input(\"Enter the name of the item you would like to delete from your shopping cart  \").lower()\n",
    "                del self.shopping_cart[deleted_key]\n",
    "                    \n",
    "cart = shopping_cart()        \n",
    "cart.add()\n",
    "cart.add()\n",
    "cart.add()\n",
    "cart.print_shopping_cart()\n",
    "cart.delete()\n",
    "cart.print_shopping_cart()    "
   ]
  },
  {
   "cell_type": "markdown",
   "id": "a09ff489",
   "metadata": {},
   "source": [
    "Exercise 2 - Write a Python class for an Animal that has a name and energy attributes. The animal class should also have methods for eat, sleep, and play that will take in an integer and increase/decrease the energy of the animal with a formatted print statement"
   ]
  },
  {
   "cell_type": "code",
   "execution_count": 25,
   "id": "47ed5435",
   "metadata": {},
   "outputs": [
    {
     "name": "stdout",
     "output_type": "stream",
     "text": [
      "<__main__.Animal object at 0x000001E82E504BB0>\n",
      "Buddy just ate 5 meal/s.  His/Her energy level just increased to 110.\n",
      "Buddy just played for 10 minute/s.  His/her energy level just decreased to 100.\n",
      "Buddy just took a 5 minute nap.  His/Her energy level just increased to 115.\n"
     ]
    }
   ],
   "source": [
    "# Example 1\n",
    "# buddy = Animal('Buddy', 10)\n",
    "# buddy.play(5) -> \"Buddy is playing for 5 minutes. His energy is now 5\"\n",
    "# buddy.sleep(10) -> \"Buddy is sleeping for 5 minutes. His energy is now 15\"\n",
    "\n",
    "class Animal():\n",
    "    def __init__(self, name, energy=100):\n",
    "        self.name = name\n",
    "        self.energy = energy\n",
    "    \n",
    "    def eat(self, meals):\n",
    "        self.energy +=  2*meals\n",
    "        print(f\"{self.name} just ate {meals} meal/s.  His/Her energy level just increased to {self.energy}.\")\n",
    "    def play(self,playtime):\n",
    "        self.energy -= playtime\n",
    "        print(f\"{self.name} just played for {playtime} minute/s.  His/her energy level just decreased to {self.energy}.\")  \n",
    "    def sleep(self,nap):\n",
    "        self.energy += 3*nap\n",
    "        print(f\"{self.name} just took a {nap} minute nap.  His/Her energy level just increased to {self.energy}.\")\n",
    "              \n",
    "print(Animal('Buddy')) \n",
    "\n",
    "animal1 = Animal('Buddy')\n",
    "animal1.eat(5)\n",
    "animal1.play(10)\n",
    "animal1.sleep(5)"
   ]
  }
 ],
 "metadata": {
  "kernelspec": {
   "display_name": "Python 3",
   "language": "python",
   "name": "python3"
  },
  "language_info": {
   "codemirror_mode": {
    "name": "ipython",
    "version": 3
   },
   "file_extension": ".py",
   "mimetype": "text/x-python",
   "name": "python",
   "nbconvert_exporter": "python",
   "pygments_lexer": "ipython3",
   "version": "3.8.8"
  }
 },
 "nbformat": 4,
 "nbformat_minor": 5
}
